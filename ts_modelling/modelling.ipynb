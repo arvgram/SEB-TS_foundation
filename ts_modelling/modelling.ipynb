{
 "cells": [
  {
   "cell_type": "code",
   "execution_count": 1,
   "id": "initial_id",
   "metadata": {
    "collapsed": true,
    "ExecuteTime": {
     "end_time": "2024-03-29T09:19:56.555128Z",
     "start_time": "2024-03-29T09:19:54.130675Z"
    }
   },
   "outputs": [],
   "source": [
    "from ts_modelling.simple_experiment import SimpleExp\n",
    "from argparse import Namespace"
   ]
  },
  {
   "cell_type": "code",
   "outputs": [
    {
     "name": "stdout",
     "output_type": "stream",
     "text": [
      "this is a changer version\n",
      "Use CPU\n"
     ]
    }
   ],
   "source": [
    "import yaml\n",
    "with open('args.yaml', 'r') as file:\n",
    "    config = yaml.safe_load(file)\n",
    "args = Namespace(**config)\n",
    "exp = SimpleExp(args)\n"
   ],
   "metadata": {
    "collapsed": false,
    "ExecuteTime": {
     "end_time": "2024-03-29T09:19:57.195747Z",
     "start_time": "2024-03-29T09:19:57.129713Z"
    }
   },
   "id": "fde941ff1c0a03e8",
   "execution_count": 2
  },
  {
   "cell_type": "code",
   "outputs": [],
   "source": [
    "from PatchTST.PatchTST_supervised.exp.exp_basic import Exp_Basic"
   ],
   "metadata": {
    "collapsed": false,
    "ExecuteTime": {
     "end_time": "2024-03-29T09:02:22.925850Z",
     "start_time": "2024-03-29T09:02:22.918954Z"
    }
   },
   "id": "4afb01ff39b290b9",
   "execution_count": 5
  },
  {
   "cell_type": "code",
   "outputs": [],
   "source": [
    "from PatchTST.PatchTST_supervised.models.PatchTST import Model"
   ],
   "metadata": {
    "collapsed": false,
    "ExecuteTime": {
     "end_time": "2024-03-29T09:04:25.104084Z",
     "start_time": "2024-03-29T09:04:25.085288Z"
    }
   },
   "id": "31148dd0c88cb9b0",
   "execution_count": 7
  },
  {
   "cell_type": "code",
   "outputs": [],
   "source": [
    "import yaml\n",
    "with open('args.yaml', 'r') as file:\n",
    "    config = yaml.safe_load(file)\n",
    "args = Namespace(**config)\n",
    "\n",
    "model = Model(args)"
   ],
   "metadata": {
    "collapsed": false,
    "ExecuteTime": {
     "end_time": "2024-03-29T09:08:14.719952Z",
     "start_time": "2024-03-29T09:08:14.564042Z"
    }
   },
   "id": "ce87a1893818e6b2",
   "execution_count": 16
  },
  {
   "cell_type": "code",
   "outputs": [],
   "source": [
    "import torch\n",
    "device = torch.device('cpu')"
   ],
   "metadata": {
    "collapsed": false,
    "ExecuteTime": {
     "end_time": "2024-03-29T09:14:30.164334Z",
     "start_time": "2024-03-29T09:14:30.160505Z"
    }
   },
   "id": "ea2ad79c59c8c318",
   "execution_count": 20
  },
  {
   "cell_type": "code",
   "outputs": [
    {
     "data": {
      "text/plain": "Model(\n  (model): PatchTST_backbone(\n    (revin_layer): RevIN()\n    (padding_patch_layer): ReplicationPad1d((0, 12))\n    (backbone): TSTiEncoder(\n      (W_P): Linear(in_features=12, out_features=128, bias=True)\n      (dropout): Dropout(p=0.3, inplace=False)\n      (encoder): TSTEncoder(\n        (layers): ModuleList(\n          (0): TSTEncoderLayer(\n            (self_attn): _MultiheadAttention(\n              (W_Q): Linear(in_features=128, out_features=128, bias=True)\n              (W_K): Linear(in_features=128, out_features=128, bias=True)\n              (W_V): Linear(in_features=128, out_features=128, bias=True)\n              (sdp_attn): _ScaledDotProductAttention(\n                (attn_dropout): Dropout(p=0.0, inplace=False)\n              )\n              (to_out): Sequential(\n                (0): Linear(in_features=128, out_features=128, bias=True)\n                (1): Dropout(p=0.3, inplace=False)\n              )\n            )\n            (dropout_attn): Dropout(p=0.3, inplace=False)\n            (norm_attn): Sequential(\n              (0): Transpose()\n              (1): BatchNorm1d(128, eps=1e-05, momentum=0.1, affine=True, track_running_stats=True)\n              (2): Transpose()\n            )\n            (ff): Sequential(\n              (0): Linear(in_features=128, out_features=128, bias=True)\n              (1): GELU()\n              (2): Dropout(p=0.3, inplace=False)\n              (3): Linear(in_features=128, out_features=128, bias=True)\n            )\n            (dropout_ffn): Dropout(p=0.3, inplace=False)\n            (norm_ffn): Sequential(\n              (0): Transpose()\n              (1): BatchNorm1d(128, eps=1e-05, momentum=0.1, affine=True, track_running_stats=True)\n              (2): Transpose()\n            )\n          )\n          (1): TSTEncoderLayer(\n            (self_attn): _MultiheadAttention(\n              (W_Q): Linear(in_features=128, out_features=128, bias=True)\n              (W_K): Linear(in_features=128, out_features=128, bias=True)\n              (W_V): Linear(in_features=128, out_features=128, bias=True)\n              (sdp_attn): _ScaledDotProductAttention(\n                (attn_dropout): Dropout(p=0.0, inplace=False)\n              )\n              (to_out): Sequential(\n                (0): Linear(in_features=128, out_features=128, bias=True)\n                (1): Dropout(p=0.3, inplace=False)\n              )\n            )\n            (dropout_attn): Dropout(p=0.3, inplace=False)\n            (norm_attn): Sequential(\n              (0): Transpose()\n              (1): BatchNorm1d(128, eps=1e-05, momentum=0.1, affine=True, track_running_stats=True)\n              (2): Transpose()\n            )\n            (ff): Sequential(\n              (0): Linear(in_features=128, out_features=128, bias=True)\n              (1): GELU()\n              (2): Dropout(p=0.3, inplace=False)\n              (3): Linear(in_features=128, out_features=128, bias=True)\n            )\n            (dropout_ffn): Dropout(p=0.3, inplace=False)\n            (norm_ffn): Sequential(\n              (0): Transpose()\n              (1): BatchNorm1d(128, eps=1e-05, momentum=0.1, affine=True, track_running_stats=True)\n              (2): Transpose()\n            )\n          )\n          (2): TSTEncoderLayer(\n            (self_attn): _MultiheadAttention(\n              (W_Q): Linear(in_features=128, out_features=128, bias=True)\n              (W_K): Linear(in_features=128, out_features=128, bias=True)\n              (W_V): Linear(in_features=128, out_features=128, bias=True)\n              (sdp_attn): _ScaledDotProductAttention(\n                (attn_dropout): Dropout(p=0.0, inplace=False)\n              )\n              (to_out): Sequential(\n                (0): Linear(in_features=128, out_features=128, bias=True)\n                (1): Dropout(p=0.3, inplace=False)\n              )\n            )\n            (dropout_attn): Dropout(p=0.3, inplace=False)\n            (norm_attn): Sequential(\n              (0): Transpose()\n              (1): BatchNorm1d(128, eps=1e-05, momentum=0.1, affine=True, track_running_stats=True)\n              (2): Transpose()\n            )\n            (ff): Sequential(\n              (0): Linear(in_features=128, out_features=128, bias=True)\n              (1): GELU()\n              (2): Dropout(p=0.3, inplace=False)\n              (3): Linear(in_features=128, out_features=128, bias=True)\n            )\n            (dropout_ffn): Dropout(p=0.3, inplace=False)\n            (norm_ffn): Sequential(\n              (0): Transpose()\n              (1): BatchNorm1d(128, eps=1e-05, momentum=0.1, affine=True, track_running_stats=True)\n              (2): Transpose()\n            )\n          )\n        )\n      )\n    )\n    (head): Flatten_Head(\n      (flatten): Flatten(start_dim=-2, end_dim=-1)\n      (linear): Linear(in_features=3712, out_features=192, bias=True)\n      (dropout): Dropout(p=0.0, inplace=False)\n    )\n  )\n)"
     },
     "execution_count": 21,
     "metadata": {},
     "output_type": "execute_result"
    }
   ],
   "source": [
    "model.to(device)"
   ],
   "metadata": {
    "collapsed": false,
    "ExecuteTime": {
     "end_time": "2024-03-29T09:14:37.313553Z",
     "start_time": "2024-03-29T09:14:37.283737Z"
    }
   },
   "id": "95cfdb5a87e3f2db",
   "execution_count": 21
  },
  {
   "cell_type": "code",
   "outputs": [],
   "source": [],
   "metadata": {
    "collapsed": false
   },
   "id": "c962b91dd802c345"
  }
 ],
 "metadata": {
  "kernelspec": {
   "display_name": "Python 3",
   "language": "python",
   "name": "python3"
  },
  "language_info": {
   "codemirror_mode": {
    "name": "ipython",
    "version": 2
   },
   "file_extension": ".py",
   "mimetype": "text/x-python",
   "name": "python",
   "nbconvert_exporter": "python",
   "pygments_lexer": "ipython2",
   "version": "2.7.6"
  }
 },
 "nbformat": 4,
 "nbformat_minor": 5
}
