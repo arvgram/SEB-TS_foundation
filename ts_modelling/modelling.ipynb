{
 "cells": [
  {
   "cell_type": "code",
   "outputs": [
    {
     "name": "stdout",
     "output_type": "stream",
     "text": [
      "Use CPU\n"
     ]
    },
    {
     "data": {
      "text/plain": "array([[   1.1224373 ],\n       [   1.44799839],\n       [   2.02092694],\n       ...,\n       [-111.83351051],\n       [-110.77576082],\n       [-111.0180385 ]])"
     },
     "execution_count": 9,
     "metadata": {},
     "output_type": "execute_result"
    }
   ],
   "source": [
    "import numpy as np\n",
    "\n",
    "from ts_modelling import data_producer\n",
    "from ts_modelling.simple_experiment import SimpleExp\n",
    "from argparse import Namespace\n",
    "import yaml\n",
    "with open('args.yaml', 'r') as file:\n",
    "    config = yaml.safe_load(file)\n",
    "args = Namespace(**config)\n",
    "exp = SimpleExp(args)\n",
    "\n",
    "from data_producer import DataProducer\n",
    "dp = DataProducer(length=5000, n_vars=1, path=args.root_path)\n",
    "dp.add_sine(freq_amp=[(1,2)])\n",
    "dp.add_trend(3, 0.05)\n"
   ],
   "metadata": {
    "collapsed": false,
    "ExecuteTime": {
     "end_time": "2024-03-29T14:40:01.123759Z",
     "start_time": "2024-03-29T14:40:01.090401Z"
    }
   },
   "id": "fde941ff1c0a03e8",
   "execution_count": 9
  },
  {
   "cell_type": "code",
   "outputs": [],
   "source": [],
   "metadata": {
    "collapsed": false,
    "ExecuteTime": {
     "end_time": "2024-03-29T14:38:23.940224Z",
     "start_time": "2024-03-29T14:38:23.915127Z"
    }
   },
   "id": "c962b91dd802c345",
   "execution_count": 6
  },
  {
   "cell_type": "code",
   "outputs": [
    {
     "data": {
      "text/plain": "'./data'"
     },
     "execution_count": 5,
     "metadata": {},
     "output_type": "execute_result"
    }
   ],
   "source": [],
   "metadata": {
    "collapsed": false,
    "ExecuteTime": {
     "end_time": "2024-03-29T14:38:22.295665Z",
     "start_time": "2024-03-29T14:38:22.289324Z"
    }
   },
   "id": "d843f0baff10a7db",
   "execution_count": 5
  },
  {
   "cell_type": "code",
   "outputs": [],
   "source": [],
   "metadata": {
    "collapsed": false
   },
   "id": "9b1f85277e4da7b9"
  }
 ],
 "metadata": {
  "kernelspec": {
   "display_name": "Python 3",
   "language": "python",
   "name": "python3"
  },
  "language_info": {
   "codemirror_mode": {
    "name": "ipython",
    "version": 2
   },
   "file_extension": ".py",
   "mimetype": "text/x-python",
   "name": "python",
   "nbconvert_exporter": "python",
   "pygments_lexer": "ipython2",
   "version": "2.7.6"
  }
 },
 "nbformat": 4,
 "nbformat_minor": 5
}
