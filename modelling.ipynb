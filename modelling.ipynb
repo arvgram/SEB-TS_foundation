{
 "cells": [
  {
   "cell_type": "code",
   "execution_count": 7,
   "id": "initial_id",
   "metadata": {
    "collapsed": true,
    "ExecuteTime": {
     "end_time": "2024-03-28T13:01:31.241940Z",
     "start_time": "2024-03-28T13:01:31.237447Z"
    }
   },
   "outputs": [],
   "source": [
    "from ts_modelling.simple_experiment import SimpleExp"
   ]
  },
  {
   "cell_type": "code",
   "outputs": [
    {
     "name": "stdout",
     "output_type": "stream",
     "text": [
      "epoch: 1, train loss: 2, validation loss: 0, test loss: 1\n"
     ]
    }
   ],
   "source": [
    "exp = SimpleExp()"
   ],
   "metadata": {
    "collapsed": false,
    "ExecuteTime": {
     "end_time": "2024-03-28T13:02:18.794998Z",
     "start_time": "2024-03-28T13:02:18.790352Z"
    }
   },
   "id": "fde941ff1c0a03e8",
   "execution_count": 9
  },
  {
   "cell_type": "code",
   "outputs": [],
   "source": [],
   "metadata": {
    "collapsed": false
   },
   "id": "4afb01ff39b290b9"
  }
 ],
 "metadata": {
  "kernelspec": {
   "display_name": "Python 3",
   "language": "python",
   "name": "python3"
  },
  "language_info": {
   "codemirror_mode": {
    "name": "ipython",
    "version": 2
   },
   "file_extension": ".py",
   "mimetype": "text/x-python",
   "name": "python",
   "nbconvert_exporter": "python",
   "pygments_lexer": "ipython2",
   "version": "2.7.6"
  }
 },
 "nbformat": 4,
 "nbformat_minor": 5
}
